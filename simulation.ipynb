{
 "cells": [
  {
   "cell_type": "code",
   "execution_count": 19,
   "id": "4dd82ad8",
   "metadata": {},
   "outputs": [],
   "source": [
    "import random\n",
    "\n",
    "def simulation(p, reps):\n",
    "    endbudget = []\n",
    "\n",
    "    for n in range(0, reps):\n",
    "        budget = 10\n",
    "        round = 0\n",
    "\n",
    "        while round < 12:\n",
    "            x = random.random()\n",
    "            if x > p:\n",
    "                budget = budget + 1\n",
    "                round = round + 1\n",
    "            else:\n",
    "                budget = budget - 4\n",
    "                round = round + 4\n",
    "\n",
    "        if round == 12:\n",
    "            x = random.random()\n",
    "            if x > p:\n",
    "                budget = budget + 1\n",
    "                round = round + 1\n",
    "            else:\n",
    "                budget = budget - 3\n",
    "                round = round + 3\n",
    "\n",
    "        if round == 13:\n",
    "            x = random.random()\n",
    "            if x > p:\n",
    "                budget = budget + 1\n",
    "                round = round + 1\n",
    "            else:\n",
    "                budget = budget - 2\n",
    "                round = round + 2\n",
    "\n",
    "        if round == 14:\n",
    "            x = random.random()\n",
    "            if x > p:\n",
    "                budget = budget + 1\n",
    "                round = round + 1\n",
    "            else:\n",
    "                budget = budget - 1\n",
    "                round = round + 1\n",
    "\n",
    "        endbudget.append(budget)\n",
    "    return(sum(endbudget) / len(endbudget))"
   ]
  },
  {
   "cell_type": "code",
   "execution_count": 37,
   "id": "993d9c11",
   "metadata": {},
   "outputs": [
    {
     "data": {
      "text/plain": [
       "16.400874"
      ]
     },
     "execution_count": 37,
     "metadata": {},
     "output_type": "execute_result"
    }
   ],
   "source": [
    "simulation(1/10, 1000000)"
   ]
  },
  {
   "cell_type": "code",
   "execution_count": 38,
   "id": "3d76805b",
   "metadata": {},
   "outputs": [
    {
     "data": {
      "text/plain": [
       "8.592774"
      ]
     },
     "execution_count": 38,
     "metadata": {},
     "output_type": "execute_result"
    }
   ],
   "source": [
    "simulation(1/4, 1000000)"
   ]
  },
  {
   "cell_type": "code",
   "execution_count": null,
   "id": "58394e01",
   "metadata": {},
   "outputs": [],
   "source": []
  }
 ],
 "metadata": {
  "kernelspec": {
   "display_name": "Python 3 (ipykernel)",
   "language": "python",
   "name": "python3"
  },
  "language_info": {
   "codemirror_mode": {
    "name": "ipython",
    "version": 3
   },
   "file_extension": ".py",
   "mimetype": "text/x-python",
   "name": "python",
   "nbconvert_exporter": "python",
   "pygments_lexer": "ipython3",
   "version": "3.9.7"
  }
 },
 "nbformat": 4,
 "nbformat_minor": 5
}
